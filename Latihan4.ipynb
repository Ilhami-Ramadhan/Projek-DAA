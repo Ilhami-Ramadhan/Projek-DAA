{
  "nbformat": 4,
  "nbformat_minor": 0,
  "metadata": {
    "colab": {
      "provenance": [],
      "authorship_tag": "ABX9TyODns7lTDkl03HA3GWK7MtG",
      "include_colab_link": true
    },
    "kernelspec": {
      "name": "python3",
      "display_name": "Python 3"
    },
    "language_info": {
      "name": "python"
    }
  },
  "cells": [
    {
      "cell_type": "markdown",
      "metadata": {
        "id": "view-in-github",
        "colab_type": "text"
      },
      "source": [
        "<a href=\"https://colab.research.google.com/github/Ilhami-Ramadhan/Projek-DAA/blob/main/Latihan4.ipynb\" target=\"_parent\"><img src=\"https://colab.research.google.com/assets/colab-badge.svg\" alt=\"Open In Colab\"/></a>"
      ]
    },
    {
      "cell_type": "code",
      "source": [
        "def Swap(var1, var2, var3):\n",
        "    var1 = var1\n",
        "    var2 = var2\n",
        "    var3 = var3\n",
        "    return var1, var2, var3\n",
        "\n",
        "var1 = 1\n",
        "var2 = 2\n",
        "var3 = 3\n",
        "\n",
        "var1, var2, var3 = Swap(var3, var2, var1)\n",
        "print(var1, var2, var3)"
      ],
      "metadata": {
        "colab": {
          "base_uri": "https://localhost:8080/"
        },
        "id": "UqY_dV9xI-Kw",
        "outputId": "f5454445-9396-4d08-b628-edc1203f737e"
      },
      "execution_count": 11,
      "outputs": [
        {
          "output_type": "stream",
          "name": "stdout",
          "text": [
            "3 2 1\n"
          ]
        }
      ]
    },
    {
      "cell_type": "code",
      "source": [
        "def bubbleSort(list):\n",
        "    lastElementIndex = len(list)-1\n",
        "    for passNo in range(lastElementIndex,0,-1):\n",
        "        for idx in range(passNo):\n",
        "            if list[idx]>list[idx+1]:\n",
        "                list[idx],list[idx+1]=list[idx+1],list[idx]\n",
        "                print(passNo,list)\n",
        "    return list\n",
        "    list = [25,21,23,24,23,27,26]\n",
        "bubbleSort(list)\n",
        "list\n",
        "\n",
        "\n",
        "\n"
      ],
      "metadata": {
        "colab": {
          "base_uri": "https://localhost:8080/"
        },
        "id": "VNDAPqfFQSW9",
        "outputId": "578fbf04-f9f3-4a6b-a5b7-43f402d7e17e"
      },
      "execution_count": 12,
      "outputs": [
        {
          "output_type": "stream",
          "name": "stdout",
          "text": [
            "6 [21, 25, 22, 24, 23, 27, 26]\n",
            "6 [21, 22, 25, 24, 23, 27, 26]\n",
            "6 [21, 22, 24, 25, 23, 27, 26]\n",
            "6 [21, 22, 24, 23, 25, 27, 26]\n",
            "6 [21, 22, 24, 23, 25, 26, 27]\n",
            "5 [21, 22, 23, 24, 25, 26, 27]\n"
          ]
        },
        {
          "output_type": "execute_result",
          "data": {
            "text/plain": [
              "[21, 22, 23, 24, 25, 26, 27]"
            ]
          },
          "metadata": {},
          "execution_count": 12
        }
      ]
    },
    {
      "cell_type": "code",
      "source": [
        "def bubble_sort(list_):\n",
        "    n = len(list_)\n",
        "    for i in range(n - 1):\n",
        "        for j in range(n - 1 - i):\n",
        "            if list_[j] > list_[j + 1]:\n",
        "                list_[j], list_[j + 1] = list_[j + 1], list_[j]\n",
        "        print(f\"Iterasi {i + 1}: {list_}\")\n",
        "    return list_\n",
        "\n",
        "list_to_sort = [100, 20, 60, 90, 40, 30, 10]\n",
        "print(\"List sebelum disorting:\", list_to_sort)\n",
        "sorted_list = bubble_sort(list_to_sort)\n",
        "print(\"List setelah disorting:\", sorted_list)"
      ],
      "metadata": {
        "colab": {
          "base_uri": "https://localhost:8080/"
        },
        "id": "69kDQKjZUMSH",
        "outputId": "80210775-cf6d-4586-fc2b-392fb5201ba5"
      },
      "execution_count": 13,
      "outputs": [
        {
          "output_type": "stream",
          "name": "stdout",
          "text": [
            "List sebelum disorting: [100, 20, 60, 90, 40, 30, 10]\n",
            "Iterasi 1: [20, 60, 90, 40, 30, 10, 100]\n",
            "Iterasi 2: [20, 60, 40, 30, 10, 90, 100]\n",
            "Iterasi 3: [20, 40, 30, 10, 60, 90, 100]\n",
            "Iterasi 4: [20, 30, 10, 40, 60, 90, 100]\n",
            "Iterasi 5: [20, 10, 30, 40, 60, 90, 100]\n",
            "Iterasi 6: [10, 20, 30, 40, 60, 90, 100]\n",
            "List setelah disorting: [10, 20, 30, 40, 60, 90, 100]\n"
          ]
        }
      ]
    },
    {
      "cell_type": "code",
      "source": [
        "def InsertionSort(list):\n",
        "    for i in range(1, len(list)):\n",
        "        j = i - 1\n",
        "        next = list[i]\n",
        "\n",
        "        # Perbaikan kondisi di dalam while loop\n",
        "        while (j >= 0) and (list[j] > next):\n",
        "            list[j + 1] = list[j]\n",
        "            j = j - 1\n",
        "        list[j + 1] = next\n",
        "\n",
        "    return list\n",
        "\n",
        "# Contoh penggunaan\n",
        "list = [35, 31, 32, 34, 33, 37, 36]\n",
        "InsertionSort(list)\n",
        "print(\"List setelah disorting:\", sorted_list)\n"
      ],
      "metadata": {
        "colab": {
          "base_uri": "https://localhost:8080/"
        },
        "id": "jkfCHn3tUdB_",
        "outputId": "a3a10f66-8aa5-4253-bd2b-7ee75b91b691"
      },
      "execution_count": 21,
      "outputs": [
        {
          "output_type": "stream",
          "name": "stdout",
          "text": [
            "List setelah disorting: [31, 32, 33, 34, 35, 36, 37]\n"
          ]
        }
      ]
    },
    {
      "cell_type": "code",
      "source": [
        "def InsertionSort(list):\n",
        "    for i in range(1, len(list)):\n",
        "        j = i - 1\n",
        "        next = list[i]\n",
        "\n",
        "        # Perbaikan kondisi di dalam while loop\n",
        "        while (j >= 0) and (list[j] > next):\n",
        "            list[j + 1] = list[j]\n",
        "            j = j - 1\n",
        "        list[j + 1] = next\n",
        "\n",
        "    return list\n",
        "\n",
        "# Contoh penggunaan\n",
        "list = [89, 12, 57, 16, 25, 11, 75]\n",
        "sorted_list = InsertionSort(list)\n",
        "print(\"awal:\", list)\n",
        "print(\"List setelah disorting:\", sorted_list)\n"
      ],
      "metadata": {
        "colab": {
          "base_uri": "https://localhost:8080/"
        },
        "id": "5IcQIGqUcVvy",
        "outputId": "08b7544a-9e17-4bd9-e10c-04f01ed30b59"
      },
      "execution_count": 24,
      "outputs": [
        {
          "output_type": "stream",
          "name": "stdout",
          "text": [
            "awal: [11, 12, 16, 25, 57, 75, 89]\n",
            "List setelah disorting: [11, 12, 16, 25, 57, 75, 89]\n"
          ]
        }
      ]
    },
    {
      "cell_type": "code",
      "source": [
        "def selection_sort(data):\n",
        "    for i in range(len(data)):\n",
        "        minimum = i\n",
        "        for j in range(i + 1, len(data)):\n",
        "            if data[j] < data[minimum]:\n",
        "                minimum = j\n",
        "\n",
        "        data[minimum], data[i] = data[i], data[minimum]\n",
        "        print(f\"Iterasi {i + 1}: {data}\")\n",
        "\n",
        "    return data\n",
        "\n",
        "data = [89, 12, 57, 16, 25]\n",
        "print(\"Data sebelum diurutkan:\", data)\n",
        "sorted_data = selection_sort(data)\n",
        "print(\"Data setelah diurutkan:\", sorted_data)\n"
      ],
      "metadata": {
        "colab": {
          "base_uri": "https://localhost:8080/"
        },
        "id": "_M3XMxLTfXgr",
        "outputId": "3877c293-0f67-43fd-bcd9-efd72a5afacc"
      },
      "execution_count": 25,
      "outputs": [
        {
          "output_type": "stream",
          "name": "stdout",
          "text": [
            "Data sebelum diurutkan: [89, 12, 57, 16, 25]\n",
            "Iterasi 1: [12, 89, 57, 16, 25]\n",
            "Iterasi 2: [12, 16, 57, 89, 25]\n",
            "Iterasi 3: [12, 16, 25, 89, 57]\n",
            "Iterasi 4: [12, 16, 25, 57, 89]\n",
            "Iterasi 5: [12, 16, 25, 57, 89]\n",
            "Data setelah diurutkan: [12, 16, 25, 57, 89]\n"
          ]
        }
      ]
    },
    {
      "cell_type": "code",
      "source": [
        "def linear_search(data, target):\n",
        "  \"\"\"\n",
        "  Melakukan pencarian linear pada list 'data' untuk mencari 'target'.\n",
        "\n",
        "  Args:\n",
        "    data: List yang akan dicari.\n",
        "    target: Elemen yang akan dicari.\n",
        "\n",
        "  Returns:\n",
        "    Indeks dari 'target' jika ditemukan, -1 jika tidak ditemukan.\n",
        "  \"\"\"\n",
        "  for i in range(len(data)):\n",
        "    if data[i] == target:\n",
        "      return i\n",
        "  return -1\n",
        "\n",
        "data = ['y', 'u', 'i', 'w', 'o', 'a', 'q', 'u', 'j', 'p']\n",
        "target = 'a'\n",
        "\n",
        "index = linear_search(data, target)\n",
        "\n",
        "if index != -1:\n",
        "  print(f\"Elemen '{target}' ditemukan pada indeks {index}\")\n",
        "else:\n",
        "  print(f\"Elemen '{target}' tidak ditemukan dalam data.\")\n"
      ],
      "metadata": {
        "colab": {
          "base_uri": "https://localhost:8080/"
        },
        "id": "8PMyzv1VglWq",
        "outputId": "6485ee63-dc3c-41e7-cbb8-d165aa25159b"
      },
      "execution_count": 27,
      "outputs": [
        {
          "output_type": "stream",
          "name": "stdout",
          "text": [
            "Elemen 'a' ditemukan pada indeks 5\n"
          ]
        }
      ]
    },
    {
      "cell_type": "code",
      "source": [
        "# Fungsi untuk melakukan binary search\n",
        "def binary_search(list, target):\n",
        "    low = 0\n",
        "    high = len(list) - 1\n",
        "\n",
        "    while low <= high:\n",
        "        mid = (low + high) // 2\n",
        "\n",
        "        # Jika elemen di tengah adalah target\n",
        "        if list[mid] == target:\n",
        "            return mid\n",
        "\n",
        "        # Jika target lebih kecil dari elemen tengah, fokus ke bagian kiri\n",
        "        elif list[mid] > target:\n",
        "            high = mid - 1\n",
        "\n",
        "        # Jika target lebih besar dari elemen tengah, fokus ke bagian kanan\n",
        "        else:\n",
        "            low = mid + 1\n",
        "\n",
        "    # Jika elemen tidak ditemukan\n",
        "    return -1\n",
        "\n",
        "# Fungsi untuk mengurutkan list menggunakan Insertion Sort\n",
        "def InsertionSort(list):\n",
        "    for i in range(1, len(list)):\n",
        "        j = i - 1\n",
        "        next = list[i]\n",
        "\n",
        "        while (j >= 0) and (list[j] > next):\n",
        "            list[j + 1] = list[j]\n",
        "            j = j - 1\n",
        "        list[j + 1] = next\n",
        "\n",
        "    return list\n",
        "\n",
        "# List yang ingin kita cari\n",
        "list = ['y', 'u', 'i', 'w', 'o', 'a', 'q', 'j', 'p']\n",
        "print(\"List sebelum diurutkan:\", list)\n",
        "\n",
        "# Urutkan list terlebih dahulu\n",
        "sorted_list = InsertionSort(list)\n",
        "print(\"List setelah diurutkan:\", sorted_list)\n",
        "\n",
        "# Cari elemen 'a'\n",
        "target = 'a'\n",
        "result = binary_search(sorted_list, target)\n",
        "\n",
        "# Tampilkan hasil pencarian\n",
        "if result != -1:\n",
        "    print(f\"Elemen '{target}' ditemukan di indeks {result} dalam list yang diurutkan.\")\n",
        "else:\n",
        "    print(f\"Elemen '{target}' tidak ditemukan dalam list.\")\n"
      ],
      "metadata": {
        "colab": {
          "base_uri": "https://localhost:8080/"
        },
        "id": "6VSGBvWsh0p1",
        "outputId": "a215b790-0d51-4e66-c88d-f52c05b7c7d0"
      },
      "execution_count": 31,
      "outputs": [
        {
          "output_type": "stream",
          "name": "stdout",
          "text": [
            "List sebelum diurutkan: ['y', 'u', 'i', 'w', 'o', 'a', 'q', 'j', 'p']\n",
            "List setelah diurutkan: ['a', 'i', 'j', 'o', 'p', 'q', 'u', 'w', 'y']\n",
            "Elemen 'a' ditemukan di indeks 0 dalam list yang diurutkan.\n"
          ]
        }
      ]
    },
    {
      "cell_type": "code",
      "source": [
        "def interpolation_search(char_list, target):\n",
        "    # First, sort the list\n",
        "    sorted_list = sorted(char_list)\n",
        "    print(f\"Sorted List: {sorted_list}\")\n",
        "\n",
        "    low = 0\n",
        "    high = len(sorted_list) - 1\n",
        "\n",
        "    while low <= high and ord(target) >= ord(sorted_list[low]) and ord(target) <= ord(sorted_list[high]):\n",
        "        if low == high:\n",
        "            if sorted_list[low] == target:\n",
        "                return low\n",
        "            return -1\n",
        "\n",
        "        # Interpolation formula to find the position\n",
        "        pos = low + ((ord(target) - ord(sorted_list[low])) * (high - low)) // (ord(sorted_list[high]) - ord(sorted_list[low]))\n",
        "\n",
        "        # Check if target is found\n",
        "        if sorted_list[pos] == target:\n",
        "            return pos\n",
        "\n",
        "        # If target is larger, target is in the upper part\n",
        "        if sorted_list[pos] < target:\n",
        "            low = pos + 1\n",
        "        # If target is smaller, target is in the lower part\n",
        "        else:\n",
        "            high = pos - 1\n",
        "\n",
        "    return -1\n",
        "\n",
        "# Example usage:\n",
        "char_list = ['y', 'u', 'i', 'w', 'o', 'a', 'q', 'u', 'j', 'p']\n",
        "target = 'a'\n",
        "\n",
        "index = interpolation_search(char_list, target)\n",
        "if index != -1:\n",
        "    print(f\"Character '{target}' found at index {index}.\")\n",
        "else:\n",
        "    print(f\"Character '{target}' not found in the list.\")\n",
        "\n"
      ],
      "metadata": {
        "colab": {
          "base_uri": "https://localhost:8080/"
        },
        "id": "TFWkmGXuitl1",
        "outputId": "e143b61f-1b77-4909-a092-c47727beb0e9"
      },
      "execution_count": 33,
      "outputs": [
        {
          "output_type": "stream",
          "name": "stdout",
          "text": [
            "Sorted List: ['a', 'i', 'j', 'o', 'p', 'q', 'u', 'u', 'w', 'y']\n",
            "Character 'a' found at index 0.\n"
          ]
        }
      ]
    }
  ]
}