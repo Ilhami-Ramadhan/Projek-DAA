{
  "nbformat": 4,
  "nbformat_minor": 0,
  "metadata": {
    "colab": {
      "provenance": [],
      "authorship_tag": "ABX9TyNLICoQZXNILzqIMTHudsSB",
      "include_colab_link": true
    },
    "kernelspec": {
      "name": "python3",
      "display_name": "Python 3"
    },
    "language_info": {
      "name": "python"
    }
  },
  "cells": [
    {
      "cell_type": "markdown",
      "metadata": {
        "id": "view-in-github",
        "colab_type": "text"
      },
      "source": [
        "<a href=\"https://colab.research.google.com/github/Ilhami-Ramadhan/Projek-DAA/blob/main/LatihanDAA_Pertemuan03.ipynb\" target=\"_parent\"><img src=\"https://colab.research.google.com/assets/colab-badge.svg\" alt=\"Open In Colab\"/></a>"
      ]
    },
    {
      "cell_type": "code",
      "execution_count": 1,
      "metadata": {
        "colab": {
          "base_uri": "https://localhost:8080/"
        },
        "id": "nnl0yIjcE-OY",
        "outputId": "51bcbe79-0a5f-4f88-ca0c-e9c9f3c076dd"
      },
      "outputs": [
        {
          "output_type": "stream",
          "name": "stdout",
          "text": [
            "['Jhon', 33, 'Toronto', True]\n"
          ]
        }
      ],
      "source": [
        "aList = [\"Jhon\", 33, \"Toronto\", True]\n",
        "print(aList)"
      ]
    },
    {
      "cell_type": "code",
      "source": [
        "import datetime as dt\n",
        "tanggal = dt.date.today()\n",
        "\n",
        "mahasiswa = [\"Rama\", \"2023071075\", \"INF\", \"DAA\", str(tanggal), \"UPJ\"]\n",
        "print(mahasiswa)"
      ],
      "metadata": {
        "colab": {
          "base_uri": "https://localhost:8080/"
        },
        "id": "bNI6lJe3GVvf",
        "outputId": "33f91708-079d-4de2-81dc-4ff466371470"
      },
      "execution_count": 21,
      "outputs": [
        {
          "output_type": "stream",
          "name": "stdout",
          "text": [
            "['Rama', '2023071075', 'INF', 'DAA', '2024-09-20', 'UPJ']\n"
          ]
        }
      ]
    },
    {
      "cell_type": "code",
      "source": [
        "print (aList[2])"
      ],
      "metadata": {
        "colab": {
          "base_uri": "https://localhost:8080/"
        },
        "id": "brJjcifoHs5J",
        "outputId": "15a9657c-6a1b-43b0-cf94-42786481cbd5"
      },
      "execution_count": 7,
      "outputs": [
        {
          "output_type": "stream",
          "name": "stdout",
          "text": [
            "Toronto\n"
          ]
        }
      ]
    },
    {
      "cell_type": "code",
      "source": [
        "print(mahasiswa[0])"
      ],
      "metadata": {
        "colab": {
          "base_uri": "https://localhost:8080/"
        },
        "id": "oejNuwXnH-DC",
        "outputId": "b3dd954c-c31c-42a5-b6c8-fe4a35c1b6fd"
      },
      "execution_count": 8,
      "outputs": [
        {
          "output_type": "stream",
          "name": "stdout",
          "text": [
            "Rama\n"
          ]
        }
      ]
    },
    {
      "cell_type": "code",
      "source": [
        "mahasiswa[0:3]"
      ],
      "metadata": {
        "colab": {
          "base_uri": "https://localhost:8080/"
        },
        "id": "1nYc4Cg_JA4_",
        "outputId": "620dbb92-4c47-4080-84f3-e88109d78da9"
      },
      "execution_count": 12,
      "outputs": [
        {
          "output_type": "execute_result",
          "data": {
            "text/plain": [
              "['Rama', '2023071075', 'INF']"
            ]
          },
          "metadata": {},
          "execution_count": 12
        }
      ]
    },
    {
      "cell_type": "code",
      "source": [
        "print(\"nama kampus :\", mahasiswa[5])"
      ],
      "metadata": {
        "colab": {
          "base_uri": "https://localhost:8080/"
        },
        "id": "1dAAH0D1KUMC",
        "outputId": "dcb85738-660f-4f1a-d6b3-51a4677718d5"
      },
      "execution_count": 13,
      "outputs": [
        {
          "output_type": "stream",
          "name": "stdout",
          "text": [
            "nama kampus : UPJ\n"
          ]
        }
      ]
    },
    {
      "cell_type": "code",
      "source": [
        "warna=[\"merah\",\"kuning\",\"hijau\",\"biru\"]\n",
        "print(warna[0:3])"
      ],
      "metadata": {
        "colab": {
          "base_uri": "https://localhost:8080/"
        },
        "id": "DGIF3KFsK0Rh",
        "outputId": "2491ee19-9d37-4793-df25-91649481da45"
      },
      "execution_count": 15,
      "outputs": [
        {
          "output_type": "stream",
          "name": "stdout",
          "text": [
            "['merah', 'kuning', 'hijau']\n"
          ]
        }
      ]
    },
    {
      "cell_type": "code",
      "source": [
        "Warna=[\"merah\",\"kuning\",\"hijau\",\"biru\"]\n",
        "for aWarna in Warna:\n",
        "  print(aWarna + \" Square\")"
      ],
      "metadata": {
        "colab": {
          "base_uri": "https://localhost:8080/"
        },
        "id": "ebBZjYwwL2pR",
        "outputId": "04b52633-c582-4cc5-e008-12c8e4e1597f"
      },
      "execution_count": 19,
      "outputs": [
        {
          "output_type": "stream",
          "name": "stdout",
          "text": [
            "merah Square\n",
            "kuning Square\n",
            "hijau Square\n",
            "biru Square\n"
          ]
        }
      ]
    },
    {
      "cell_type": "code",
      "source": [
        "for aMahasiswa in mahasiswa:\n",
        "  print(aMahasiswa + \" UPJ\")"
      ],
      "metadata": {
        "colab": {
          "base_uri": "https://localhost:8080/"
        },
        "id": "m9tqvIk1M8op",
        "outputId": "a9cf9f6a-28cb-404f-b4cc-388a877dc3f1"
      },
      "execution_count": 26,
      "outputs": [
        {
          "output_type": "stream",
          "name": "stdout",
          "text": [
            "Rama UPJ\n",
            "2023071075 UPJ\n",
            "INF UPJ\n",
            "DAA UPJ\n",
            "2024-09-20 UPJ\n",
            "UPJ UPJ\n"
          ]
        }
      ]
    },
    {
      "cell_type": "code",
      "source": [
        "UPJ = (\"Universitas\", \"Pembangunan\", \"Jaya\")\n",
        "UPJ[2]"
      ],
      "metadata": {
        "colab": {
          "base_uri": "https://localhost:8080/",
          "height": 36
        },
        "id": "8Ma6N9E3OK1W",
        "outputId": "ece6b203-364f-4ba3-9fd2-57a1e8ce7009"
      },
      "execution_count": 29,
      "outputs": [
        {
          "output_type": "execute_result",
          "data": {
            "text/plain": [
              "'Jaya'"
            ],
            "application/vnd.google.colaboratory.intrinsic+json": {
              "type": "string"
            }
          },
          "metadata": {},
          "execution_count": 29
        }
      ]
    },
    {
      "cell_type": "code",
      "source": [
        "import pandas as pd\n",
        "\n",
        "# Membuat DataFrame dengan data mahasiswa\n",
        "df = pd.DataFrame([\n",
        "   [1, \"INF\", 50, 30, 20],\n",
        "   [2, \"SIF\", 55, 30, 25],\n",
        "   [3, \"TEKSIP\", 40, 30, 10]\n",
        "])\n",
        "\n",
        "# Mengubah nama kolom\n",
        "df.columns = [\"No\", \"Prodi\", \"Mahasiswa\", \"LakiLaki\", \"Perempuan\"]\n",
        "\n",
        "# Menampilkan DataFrame\n",
        "print(df)\n"
      ],
      "metadata": {
        "colab": {
          "base_uri": "https://localhost:8080/"
        },
        "id": "S4tdmyxiRleC",
        "outputId": "2185e486-85d6-482b-9dcc-a791fb883394"
      },
      "execution_count": 34,
      "outputs": [
        {
          "output_type": "stream",
          "name": "stdout",
          "text": [
            "   No   Prodi  Mahasiswa  LakiLaki  Perempuan\n",
            "0   1     INF         50        30         20\n",
            "1   2     SIF         55        30         25\n",
            "2   3  TEKSIP         40        30         10\n"
          ]
        }
      ]
    },
    {
      "cell_type": "code",
      "source": [
        "nested_tuple = (100, (200, 400, 600), 300, (400, 800))\n",
        "\n",
        "# Menampilkan tuple bersarang\n",
        "print(nested_tuple)\n"
      ],
      "metadata": {
        "colab": {
          "base_uri": "https://localhost:8080/"
        },
        "id": "N2nwRA0zWAbc",
        "outputId": "c757bc5a-5cb7-4428-faba-8f137a12d3db"
      },
      "execution_count": 35,
      "outputs": [
        {
          "output_type": "stream",
          "name": "stdout",
          "text": [
            "(100, (200, 400, 600), 300, (400, 800))\n"
          ]
        }
      ]
    },
    {
      "cell_type": "code",
      "source": [
        "bin_colors ={\n",
        "    \"manual_color\": \"Yellow\",\n",
        "    \"approved_color\": \"Green\",\n",
        "    \"refused_color\": \"Red\"\n",
        "}\n",
        "print(bin_colors)"
      ],
      "metadata": {
        "colab": {
          "base_uri": "https://localhost:8080/"
        },
        "id": "aZswHh0BXlOt",
        "outputId": "99b4d248-0e78-4968-c27b-b84664b5c0bb"
      },
      "execution_count": 37,
      "outputs": [
        {
          "output_type": "stream",
          "name": "stdout",
          "text": [
            "{'manual_color': 'Yellow', 'approved_color': 'Green', 'refused_color': 'Red'}\n"
          ]
        }
      ]
    },
    {
      "cell_type": "code",
      "source": [
        "bin_colors[\"approved_color\"]=\"purple\"\n",
        "print(bin_colors)"
      ],
      "metadata": {
        "colab": {
          "base_uri": "https://localhost:8080/"
        },
        "id": "icfnYiPnYy1W",
        "outputId": "75484c77-bcc2-4e0a-fcf5-b1141d983f9e"
      },
      "execution_count": 38,
      "outputs": [
        {
          "output_type": "stream",
          "name": "stdout",
          "text": [
            "{'manual_color': 'Yellow', 'approved_color': 'purple', 'refused_color': 'Red'}\n"
          ]
        }
      ]
    },
    {
      "cell_type": "code",
      "source": [
        "bin_colors.get(\"approved_color\")"
      ],
      "metadata": {
        "colab": {
          "base_uri": "https://localhost:8080/",
          "height": 36
        },
        "id": "D2naox2QZYxC",
        "outputId": "5658de52-e5d0-4813-a369-1c4320a3b37c"
      },
      "execution_count": 42,
      "outputs": [
        {
          "output_type": "execute_result",
          "data": {
            "text/plain": [
              "'purple'"
            ],
            "application/vnd.google.colaboratory.intrinsic+json": {
              "type": "string"
            }
          },
          "metadata": {},
          "execution_count": 42
        }
      ]
    },
    {
      "cell_type": "code",
      "source": [
        "Mahasiswa = {\n",
        "    \"Satrio\": {\n",
        "        \"NIM\": 2023071050,\n",
        "        \"Prodi\": \"Informatika\",\n",
        "        \"Universitas\": \"Universitas Pembangunan Jaya\"\n",
        "    },\n",
        "    \"Rais\": {\n",
        "        \"NIM\": 2023071049,\n",
        "        \"Prodi\": \"Informatika\",\n",
        "        \"Universitas\": \"Universitas Pembangunan Jaya\"\n",
        "    },\n",
        "    \"Rama\": {\n",
        "        \"NIM\": 2023071048,\n",
        "        \"Prodi\": \"Informatika\",\n",
        "        \"Universitas\": \"Universitas Pembangunan Jaya\"\n",
        "    },\n",
        "    \"Dimas\": {\n",
        "        \"NIM\": 2023071047,\n",
        "        \"Prodi\": \"Informatika\",\n",
        "        \"Universitas\": \"Universitas Pembangunan Jaya\"\n",
        "    },\n",
        "    \"Fadil\": {\n",
        "        \"NIM\": 2023071046,\n",
        "        \"Prodi\": \"Informatika\",\n",
        "        \"Universitas\": \"Universitas Pembangunan Jaya\"\n",
        "    },\n",
        "}\n",
        "# jika hanya ingin manggil satu\n",
        "nama_mahasiswa = \"Satrio\"\n",
        "info = Mahasiswa[nama_mahasiswa]\n",
        "print(f\"Nama: {nama_mahasiswa}, NIM: {info['NIM']}, Prodi: {info['Prodi']}, Universitas: {info['Universitas']}\")\n"
      ],
      "metadata": {
        "colab": {
          "base_uri": "https://localhost:8080/"
        },
        "id": "Ni0LQbVGZ-Zt",
        "outputId": "61dcbb13-c74a-4647-d8fe-0443123f4de7"
      },
      "execution_count": 43,
      "outputs": [
        {
          "output_type": "stream",
          "name": "stdout",
          "text": [
            "Nama: Satrio, NIM: 2023071050, Prodi: Informatika, Universitas: Universitas Pembangunan Jaya\n"
          ]
        }
      ]
    },
    {
      "cell_type": "code",
      "source": [
        "for nama, info in Mahasiswa.items():\n",
        "    print(f\"Nama: {nama}, NIM: {info['NIM']}, Prodi: {info['Prodi']}, Universitas: {info['Universitas']}\")\n",
        "\n"
      ],
      "metadata": {
        "colab": {
          "base_uri": "https://localhost:8080/"
        },
        "id": "16EUZ5hsd7oV",
        "outputId": "f2fed6e7-24f5-4fd9-9ba1-bb7a931072ad"
      },
      "execution_count": 45,
      "outputs": [
        {
          "output_type": "stream",
          "name": "stdout",
          "text": [
            "Nama: Satrio, NIM: 2023071050, Prodi: Informatika, Universitas: Universitas Pembangunan Jaya\n",
            "Nama: Rais, NIM: 2023071049, Prodi: Informatika, Universitas: Universitas Pembangunan Jaya\n",
            "Nama: Rama, NIM: 2023071048, Prodi: Informatika, Universitas: Universitas Pembangunan Jaya\n",
            "Nama: Dimas, NIM: 2023071047, Prodi: Informatika, Universitas: Universitas Pembangunan Jaya\n",
            "Nama: Fadil, NIM: 2023071046, Prodi: Informatika, Universitas: Universitas Pembangunan Jaya\n"
          ]
        }
      ]
    },
    {
      "cell_type": "code",
      "source": [
        "def pisahkan_warna(kata_kata):\n",
        "\n",
        "\n",
        "  warna_kata = {'yellow': set(), 'red': set()}\n",
        "  warna_dominan = {'yellow': {'dandelions', 'leaves'}, 'red': {'blood', 'rose', 'fire hydrant'}}\n",
        "\n",
        "  for kata in kata_kata:\n",
        "    for warna in warna_dominan:\n",
        "      if kata in warna_dominan[warna]:\n",
        "        warna_kata[warna].add(kata)\n",
        "\n",
        "  return warna_kata\n",
        "\n",
        "kata_kata = {'blood', 'rose', 'dandelions', 'fire hydrant', 'leaves'}\n",
        "hasil = pisahkan_warna(kata_kata)\n",
        "print(hasil)"
      ],
      "metadata": {
        "colab": {
          "base_uri": "https://localhost:8080/"
        },
        "id": "j5sTMWLQeTcM",
        "outputId": "bc2c310a-acce-4d88-ef6b-e8f8935954e0"
      },
      "execution_count": 46,
      "outputs": [
        {
          "output_type": "stream",
          "name": "stdout",
          "text": [
            "{'yellow': {'dandelions', 'leaves'}, 'red': {'fire hydrant', 'rose', 'blood'}}\n"
          ]
        }
      ]
    },
    {
      "cell_type": "code",
      "source": [
        "import numpy as np\n",
        "\n",
        "Matrix = np.array([[100, 200, 300], [700, 600, 500], [900, 1000, 800]])\n",
        "print(Matrix)\n",
        "\n"
      ],
      "metadata": {
        "colab": {
          "base_uri": "https://localhost:8080/"
        },
        "id": "4lx9bpqSeU-Q",
        "outputId": "a61ae241-d072-4728-896b-8327ad8a1e8a"
      },
      "execution_count": 49,
      "outputs": [
        {
          "output_type": "stream",
          "name": "stdout",
          "text": [
            "[[ 100  200  300]\n",
            " [ 700  600  500]\n",
            " [ 900 1000  800]]\n"
          ]
        }
      ]
    }
  ]
}