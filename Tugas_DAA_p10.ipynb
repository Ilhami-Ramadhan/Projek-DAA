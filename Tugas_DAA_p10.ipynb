{
  "nbformat": 4,
  "nbformat_minor": 0,
  "metadata": {
    "colab": {
      "provenance": [],
      "authorship_tag": "ABX9TyPQZyU/VM+XXq3BQ5UxC2N/",
      "include_colab_link": true
    },
    "kernelspec": {
      "name": "python3",
      "display_name": "Python 3"
    },
    "language_info": {
      "name": "python"
    }
  },
  "cells": [
    {
      "cell_type": "markdown",
      "metadata": {
        "id": "view-in-github",
        "colab_type": "text"
      },
      "source": [
        "<a href=\"https://colab.research.google.com/github/Ilhami-Ramadhan/Projek-DAA/blob/main/Tugas_DAA_p10.ipynb\" target=\"_parent\"><img src=\"https://colab.research.google.com/assets/colab-badge.svg\" alt=\"Open In Colab\"/></a>"
      ]
    },
    {
      "cell_type": "code",
      "source": [
        "# Import library dengan cara alternatif\n",
        "!pip install pulp # Install the pulp library\n",
        "from pulp import LpMaximize, LpProblem, LpVariable, LpStatus, value\n",
        "\n",
        "# Define problem\n",
        "model = LpProblem(\"ProfitMaximisingProblem\", LpMaximize)\n",
        "\n",
        "# Define variables\n",
        "A = LpVariable('A', lowBound=0, cat='Integer')\n",
        "B = LpVariable('B', lowBound=0, cat='Integer')\n",
        "\n",
        "# Objective function\n",
        "model += 5000 * A + 2500 * B, \"Profit\"\n",
        "\n",
        "# Constraints\n",
        "model += 3 * A + 2 * B <= 20\n",
        "model += 4 * A + 3 * B <= 30\n",
        "model += 4 * A + 3 * B <= 44\n",
        "\n",
        "# Solve the problem\n",
        "model.solve()\n",
        "\n",
        "# Print status\n",
        "print(\"Status:\", LpStatus[model.status])\n",
        "\n",
        "# Print variable values\n",
        "print(\"A =\", A.varValue)\n",
        "print(\"B =\", B.varValue)\n",
        "\n",
        "# Print objective function value\n",
        "print(\"Maximum Profit =\", value(model.objective))"
      ],
      "metadata": {
        "colab": {
          "base_uri": "https://localhost:8080/"
        },
        "id": "_c5uTfBguRKe",
        "outputId": "eaea9799-8c0f-420d-aff1-23192c192762"
      },
      "execution_count": 7,
      "outputs": [
        {
          "output_type": "stream",
          "name": "stdout",
          "text": [
            "Collecting pulp\n",
            "  Downloading PuLP-2.9.0-py3-none-any.whl.metadata (5.4 kB)\n",
            "Downloading PuLP-2.9.0-py3-none-any.whl (17.7 MB)\n",
            "\u001b[2K   \u001b[90m━━━━━━━━━━━━━━━━━━━━━━━━━━━━━━━━━━━━━━━━\u001b[0m \u001b[32m17.7/17.7 MB\u001b[0m \u001b[31m79.0 MB/s\u001b[0m eta \u001b[36m0:00:00\u001b[0m\n",
            "\u001b[?25hInstalling collected packages: pulp\n",
            "Successfully installed pulp-2.9.0\n",
            "Status: Optimal\n",
            "A = 6.0\n",
            "B = 1.0\n",
            "Maximum Profit = 32500.0\n"
          ]
        }
      ]
    }
  ]
}