{
  "nbformat": 4,
  "nbformat_minor": 0,
  "metadata": {
    "colab": {
      "provenance": [],
      "authorship_tag": "ABX9TyNn7ZircXyoDwLEcD6eQoEz",
      "include_colab_link": true
    },
    "kernelspec": {
      "name": "python3",
      "display_name": "Python 3"
    },
    "language_info": {
      "name": "python"
    }
  },
  "cells": [
    {
      "cell_type": "markdown",
      "metadata": {
        "id": "view-in-github",
        "colab_type": "text"
      },
      "source": [
        "<a href=\"https://colab.research.google.com/github/Ilhami-Ramadhan/Projek-DAA/blob/main/DAA_Pertemuan5.ipynb\" target=\"_parent\"><img src=\"https://colab.research.google.com/assets/colab-badge.svg\" alt=\"Open In Colab\"/></a>"
      ]
    },
    {
      "cell_type": "code",
      "execution_count": null,
      "metadata": {
        "colab": {
          "base_uri": "https://localhost:8080/"
        },
        "id": "AAHxwg1iSySV",
        "outputId": "62cfd27d-200d-497f-926a-602f364c8108"
      },
      "outputs": [
        {
          "output_type": "execute_result",
          "data": {
            "text/plain": [
              "191"
            ]
          },
          "metadata": {},
          "execution_count": 1
        }
      ],
      "source": [
        "def divide_and_conquer_sum(arr):\n",
        "    if len(arr) == 1:\n",
        "        return arr[0]\n",
        "    mid = len(arr) // 2\n",
        "    left_sum = divide_and_conquer_sum(arr[:mid])\n",
        "    right_sum = divide_and_conquer_sum(arr[mid:])\n",
        "    return left_sum + right_sum\n",
        "\n",
        "numbers = [12, 51, 23, 7, 84, 5, 9]\n",
        "\n",
        "result = divide_and_conquer_sum(numbers)\n",
        "result"
      ]
    },
    {
      "cell_type": "code",
      "source": [
        "# A Divide and Conquer based Python program to find the maximum subarray sum\n",
        "\n",
        "# Function to find the maximum possible sum of the subarray\n",
        "# that crosses the middle point\n",
        "def maxCrossingSum(arr, l, m, h):\n",
        "    # Include elements on left of mid\n",
        "    sm = 0\n",
        "    left_sum = -10000\n",
        "\n",
        "    for i in range(m, l-1, -1):\n",
        "        sm = sm + arr[i]\n",
        "        if (sm > left_sum):\n",
        "            left_sum = sm\n",
        "\n",
        "    # Include elements on right of mid\n",
        "    sm = 0\n",
        "    right_sum = -10000\n",
        "    for i in range(m + 1, h + 1):\n",
        "        sm = sm + arr[i]\n",
        "        if (sm > right_sum):\n",
        "            right_sum = sm\n",
        "\n",
        "    # Return sum of elements on left and right of mid\n",
        "    return max(left_sum + right_sum, left_sum, right_sum)\n",
        "\n",
        "# Function to return the maximum sum of the subarray in arr[l..h]\n",
        "def maxSubArraySum(arr, l, h):\n",
        "    # Invalid Range: low is greater than high\n",
        "    if l > h:\n",
        "        return -10000\n",
        "\n",
        "    # Base Case: Only one element\n",
        "    if l == h:\n",
        "        return arr[l]\n",
        "\n",
        "    # Find the middle point\n",
        "    m = (l + h) // 2\n",
        "\n",
        "    # Return maximum of the following three possible cases:\n",
        "    # a) Maximum subarray sum in left half\n",
        "    # b) Maximum subarray sum in right half\n",
        "    # c) Maximum subarray sum such that the subarray crosses the midpoint\n",
        "    return max(maxSubArraySum(arr, l, m),\n",
        "               maxSubArraySum(arr, m + 1, h),\n",
        "               maxCrossingSum(arr, l, m, h))\n",
        "\n",
        "# Driver Code\n",
        "\n",
        "# Test case 1\n",
        "arr = [4, 12, 23, 9, 21, 1, 35, 2, 24]\n",
        "n = len(arr)\n",
        "max_sum = maxSubArraySum(arr, 0, n - 1)\n",
        "print(\"Maximum contiguous sum is\", max_sum)\n",
        "\n",
        "# Test case 2\n",
        "arr = [12, 51, 23, 84, 5, 9]\n",
        "n = len(arr)\n",
        "max_sum = maxSubArraySum(arr, 0, n - 1)\n",
        "print(\"Maximum contiguous sum is\", max_sum)\n",
        "\n",
        "\n"
      ],
      "metadata": {
        "colab": {
          "base_uri": "https://localhost:8080/"
        },
        "id": "vmpoaba8V0SA",
        "outputId": "fe631d37-ad55-4d4d-a5a6-d53c5087500a"
      },
      "execution_count": null,
      "outputs": [
        {
          "output_type": "stream",
          "name": "stdout",
          "text": [
            "Maximum contiguous sum is 131\n",
            "Maximum contiguous sum is 184\n"
          ]
        }
      ]
    },
    {
      "cell_type": "code",
      "source": [
        "# Function to find maximum element in an array using Divide and Conquer\n",
        "def divideAndConquer_Max(arr, ind, length):\n",
        "    # Initialize the maximum with a very small value\n",
        "    maximum = -1\n",
        "\n",
        "    # Base case: If the current index reaches the last two elements\n",
        "    if ind >= length - 2:\n",
        "        if arr[ind] > arr[ind + 1]:\n",
        "            return arr[ind]\n",
        "        else:\n",
        "            return arr[ind + 1]\n",
        "\n",
        "    # Recursively find the maximum in the rest of the array\n",
        "    maximum = divideAndConquer_Max(arr, ind + 1, length)\n",
        "\n",
        "    # Compare current element with the maximum found so far\n",
        "    if arr[ind] > maximum:\n",
        "        return arr[ind]\n",
        "    else:\n",
        "        return maximum\n",
        "\n",
        "# Function to find minimum element in an array using Divide and Conquer\n",
        "def divideAndConquer_Min(arr, ind, length):\n",
        "    # Initialize the minimum with a very large value\n",
        "    minimum = 0\n",
        "\n",
        "    # Base case: If the current index reaches the last two elements\n",
        "    if ind >= length - 2:\n",
        "        if arr[ind] < arr[ind + 1]:\n",
        "            return arr[ind]\n",
        "        else:\n",
        "            return arr[ind + 1]\n",
        "\n",
        "    # Recursively find the minimum in the rest of the array\n",
        "    minimum = divideAndConquer_Min(arr, ind + 1, length)\n",
        "\n",
        "    # Compare current element with the minimum found so far\n",
        "    if arr[ind] < minimum:\n",
        "        return arr[ind]\n",
        "    else:\n",
        "        return minimum\n",
        "\n",
        "# Array initialization\n",
        "arr = [6, 4, 8, 90, 12, 56, 7, 1, 63]\n",
        "\n",
        "# Call the functions to find maximum and minimum\n",
        "maximum = divideAndConquer_Max(arr, 0, len(arr))\n",
        "minimum = divideAndConquer_Min(arr, 0, len(arr))\n",
        "\n",
        "# Output the results\n",
        "print(\"The minimum number in the array is:\", minimum)\n",
        "print(\"The maximum number in the array is:\", maximum)\n",
        "\n"
      ],
      "metadata": {
        "colab": {
          "base_uri": "https://localhost:8080/"
        },
        "id": "NaRtUfm-YNDl",
        "outputId": "39cb460e-0483-4721-e228-1653e18f077e"
      },
      "execution_count": null,
      "outputs": [
        {
          "output_type": "stream",
          "name": "stdout",
          "text": [
            "The minimum number in the array is: 1\n",
            "The maximum number in the array is: 90\n"
          ]
        }
      ]
    },
    {
      "cell_type": "code",
      "source": [
        "# MergeSort function\n",
        "def mergeSort(array):\n",
        "    if len(array) > 1:\n",
        "        # r is the point where the array is divided into two subarrays\n",
        "        r = len(array) // 2\n",
        "        L = array[:r]  # Left half of the array\n",
        "        M = array[r:]  # Right half of the array\n",
        "\n",
        "        # Sort the two halves\n",
        "        mergeSort(L)\n",
        "        mergeSort(M)\n",
        "\n",
        "        i = j = k = 0\n",
        "        # Until we reach either end of either L or R, pick the smaller among\n",
        "        # elements in L and R and place them in the correct position in the original array\n",
        "        while i < len(L) and j < len(M):\n",
        "            if L[i] < M[j]:\n",
        "                array[k] = L[i]\n",
        "                i += 1\n",
        "            else:\n",
        "                array[k] = M[j]\n",
        "                j += 1\n",
        "            k += 1\n",
        "\n",
        "        # When we run out of elements in either L or R,\n",
        "        # pick up the remaining elements and put them in the array\n",
        "        while i < len(L):\n",
        "            array[k] = L[i]\n",
        "            i += 1\n",
        "            k += 1\n",
        "\n",
        "        while j < len(M):\n",
        "            array[k] = M[j]\n",
        "            j += 1\n",
        "            k += 1\n",
        "\n",
        "# Print the array\n",
        "def printList(array):\n",
        "    for i in range(len(array)):\n",
        "        print(array[i], end=\" \")\n",
        "    print()\n",
        "\n",
        "# Example usage\n",
        "array = [8, 3, 2, 9, 7, 1, 5, 4]\n",
        "\n",
        "mergeSort(array)\n",
        "\n",
        "print(\"Sorted array is: \")\n",
        "printList(array)\n"
      ],
      "metadata": {
        "colab": {
          "base_uri": "https://localhost:8080/"
        },
        "id": "Uu1GTExlaMvK",
        "outputId": "6de7cf0b-7ff2-4ce0-cc01-09befc4f4b1c"
      },
      "execution_count": null,
      "outputs": [
        {
          "output_type": "stream",
          "name": "stdout",
          "text": [
            "Sorted array is: \n",
            "1 2 3 4 5 7 8 9 \n"
          ]
        }
      ]
    },
    {
      "cell_type": "code",
      "source": [
        "def insertion_sort(arr):\n",
        "    for i in range(1, len(arr)):\n",
        "        key = arr[i]\n",
        "        j = i - 1\n",
        "        # Move elements of arr[0..i-1], that are greater than key, to one position ahead of their current position\n",
        "        while j >= 0 and key < arr[j]:\n",
        "            arr[j + 1] = arr[j]\n",
        "            j -= 1\n",
        "        arr[j + 1] = key\n",
        "    return arr\n",
        "\n",
        "# Example usage\n",
        "arr = [4, 12, 23, 9, 21, 1, 5, 2]\n",
        "print(\"Sorted array is:\", insertion_sort(arr))\n",
        "\n"
      ],
      "metadata": {
        "colab": {
          "base_uri": "https://localhost:8080/"
        },
        "id": "4hMR40SLdnJ3",
        "outputId": "9cbacb1f-3c59-486a-85ce-700d3e72dd7a"
      },
      "execution_count": null,
      "outputs": [
        {
          "output_type": "stream",
          "name": "stdout",
          "text": [
            "Sorted array is: [1, 2, 4, 5, 9, 12, 21, 23]\n"
          ]
        }
      ]
    },
    {
      "cell_type": "code",
      "source": [
        "# Function to find the partition position\n",
        "def partition(array, low, high):\n",
        "    # Choose the rightmost element as pivot\n",
        "    pivot = array[high]\n",
        "\n",
        "    # Pointer for the greater element\n",
        "    i = low - 1\n",
        "\n",
        "    # Traverse through all elements, compare each element with the pivot\n",
        "    for j in range(low, high):\n",
        "        if array[j] < pivot:\n",
        "            # If element smaller than pivot is found, swap it with the greater element pointed by i\n",
        "            i = i + 1\n",
        "            array[i], array[j] = array[j], array[i]\n",
        "\n",
        "    # Swap the pivot element with the greater element at i+1\n",
        "    array[i + 1], array[high] = array[high], array[i + 1]\n",
        "\n",
        "    # Return the position from where partition is done\n",
        "    return i + 1\n",
        "\n",
        "# Function to perform quicksort\n",
        "def quickSort(array, low, high):\n",
        "    if low < high:\n",
        "        # Find the pivot element such that elements smaller than pivot are on the left\n",
        "        # and elements greater than pivot are on the right\n",
        "        pi = partition(array, low, high)\n",
        "\n",
        "        # Recursive call on the left of pivot\n",
        "        quickSort(array, low, pi - 1)\n",
        "\n",
        "        # Recursive call on the right of pivot\n",
        "        quickSort(array, pi + 1, high)\n",
        "\n",
        "# Example usage\n",
        "data = [1, 7, 4, 1, 10, 9, -2]\n",
        "print(\"Unsorted Array:\")\n",
        "print(data)\n",
        "\n",
        "# Get the size of the array\n",
        "size = len(data)\n",
        "\n",
        "# Perform QuickSort\n",
        "quickSort(data, 0, size - 1)\n",
        "\n",
        "print('Sorted Array in Ascending Order:')\n",
        "print(data)\n"
      ],
      "metadata": {
        "colab": {
          "base_uri": "https://localhost:8080/"
        },
        "id": "dyPwk4_3f7c3",
        "outputId": "37940c33-3147-4d29-b12d-cd610180bae3"
      },
      "execution_count": null,
      "outputs": [
        {
          "output_type": "stream",
          "name": "stdout",
          "text": [
            "Unsorted Array:\n",
            "[1, 7, 4, 1, 10, 9, -2]\n",
            "Sorted Array in Ascending Order:\n",
            "[-2, 1, 1, 4, 7, 9, 10]\n"
          ]
        }
      ]
    },
    {
      "cell_type": "code",
      "source": [
        "def countInversion(arr):\n",
        "    result = 0\n",
        "    for i in range(len(arr)):\n",
        "        for j in range(i + 1, len(arr)):\n",
        "            if arr[i] > arr[j]:\n",
        "                result += 1\n",
        "    return result\n",
        "\n",
        "arr = [21, 70, 36, 14, 25]\n",
        "result = countInversion(arr)\n",
        "print(result)\n"
      ],
      "metadata": {
        "id": "r7tPwEsOiWsL",
        "colab": {
          "base_uri": "https://localhost:8080/"
        },
        "outputId": "59e6d29f-a790-4786-8414-21d7d26dae71"
      },
      "execution_count": null,
      "outputs": [
        {
          "output_type": "stream",
          "name": "stdout",
          "text": [
            "6\n"
          ]
        }
      ]
    },
    {
      "cell_type": "code",
      "source": [
        "def countInversion(arr):\n",
        "    icount = 0\n",
        "    if len(arr) <= 1:\n",
        "        return icount\n",
        "\n",
        "    mid = len(arr) // 2\n",
        "    left = arr[:mid]\n",
        "    right = arr[mid:]\n",
        "\n",
        "    # Hitung inversi pada bagian kiri dan kanan\n",
        "    icount += countInversion(left)\n",
        "    icount += countInversion(right)\n",
        "\n",
        "    # Menggabungkan dan menghitung inversi antara left dan right\n",
        "    i = j = k = 0\n",
        "\n",
        "    while i < len(left) and j < len(right):\n",
        "        if left[i] <= right[j]:\n",
        "            arr[k] = left[i]\n",
        "            i += 1\n",
        "        else:\n",
        "            arr[k] = right[j]\n",
        "            icount += (len(left) - i)  # Menambah jumlah inversi\n",
        "            j += 1\n",
        "        k += 1\n",
        "\n",
        "    # Menyalin sisa elemen dari left\n",
        "    while i < len(left):\n",
        "        arr[k] = left[i]\n",
        "        i += 1\n",
        "        k += 1\n",
        "\n",
        "    # Menyalin sisa elemen dari right\n",
        "    while j < len(right):\n",
        "        arr[k] = right[j]\n",
        "        j += 1\n",
        "        k += 1\n",
        "\n",
        "    return icount\n",
        "\n",
        "# Contoh penggunaan\n",
        "arr = [1, 20, 6, 4, 5]\n",
        "result = countInversion(arr)\n",
        "print(result)\n"
      ],
      "metadata": {
        "colab": {
          "base_uri": "https://localhost:8080/"
        },
        "id": "P4M0YeXQkzNz",
        "outputId": "07a73e2e-f241-409a-a1d4-4c1d5f9127e7"
      },
      "execution_count": null,
      "outputs": [
        {
          "output_type": "stream",
          "name": "stdout",
          "text": [
            "5\n"
          ]
        }
      ]
    },
    {
      "cell_type": "code",
      "source": [
        "def maxCrossingSum(arr, low, mid, high):\n",
        "    leftSum = float('-inf')\n",
        "    rightSum = float('-inf')\n",
        "    result = 0\n",
        "\n",
        "    # Mencari jumlah maksimum di bagian kiri\n",
        "    for i in range(mid, low - 1, -1):\n",
        "        result += arr[i]\n",
        "        if result > leftSum:\n",
        "            leftSum = result\n",
        "\n",
        "    result = 0\n",
        "\n",
        "    # Mencari jumlah maksimum di bagian kanan\n",
        "    for i in range(mid + 1, high + 1):\n",
        "        result += arr[i]\n",
        "        if result > rightSum:\n",
        "            rightSum = result\n",
        "\n",
        "    return leftSum + rightSum\n",
        "\n",
        "def maxSum(arr, low, high):\n",
        "    if low == high:\n",
        "        return arr[low]\n",
        "\n",
        "    mid = (low + high) // 2\n",
        "\n",
        "    return max(maxSum(arr, low, mid),\n",
        "               maxSum(arr, mid + 1, high),\n",
        "               maxCrossingSum(arr, low, mid, high))\n",
        "\n",
        "# Contoh penggunaan\n",
        "arr = [-2, -5, 6, -2, -3, 1, 5, -6]\n",
        "result = maxSum(arr, 0, len(arr) - 1)\n",
        "print(result)\n",
        "\n"
      ],
      "metadata": {
        "colab": {
          "base_uri": "https://localhost:8080/"
        },
        "id": "bkyXvFX9nOM8",
        "outputId": "74365024-12b4-4cf3-d280-6dacfcff5711"
      },
      "execution_count": null,
      "outputs": [
        {
          "output_type": "stream",
          "name": "stdout",
          "text": [
            "7\n"
          ]
        }
      ]
    },
    {
      "cell_type": "code",
      "source": [
        "def longestCommonPrefix(a):\n",
        "    size = len(a)\n",
        "\n",
        "    # Jika ukuran array 0, kembalikan string kosong\n",
        "    if size == 0:\n",
        "        return \"\"\n",
        "\n",
        "    # Jika hanya ada satu elemen, itu adalah prefix terpanjang\n",
        "    if size == 1:\n",
        "        return a[0]\n",
        "\n",
        "    # Sort array string\n",
        "    a.sort()\n",
        "\n",
        "    # Temukan panjang minimum dari string pertama dan terakhir\n",
        "    end = min(len(a[0]), len(a[size - 1]))\n",
        "\n",
        "    # Temukan prefix umum antara string pertama dan terakhir\n",
        "    i = 0\n",
        "    while (i < end and a[0][i] == a[size - 1][i]):\n",
        "        i += 1\n",
        "\n",
        "    # Prefix terpanjang yang ditemukan\n",
        "    pre = a[0][0:i]\n",
        "    return pre\n",
        "\n",
        "# Contoh penggunaan\n",
        "arr = [\"geeksforgeeks\", \"geeks\", \"geek\", \"geezer\"]\n",
        "result = longestCommonPrefix(arr)\n",
        "print(result)\n",
        "\n",
        "arr = [\"apple\", \"ape\", \"april\"]\n",
        "result = longestCommonPrefix(arr)\n",
        "print(result)\n"
      ],
      "metadata": {
        "colab": {
          "base_uri": "https://localhost:8080/"
        },
        "id": "3q6jJwz-pKKC",
        "outputId": "8420f083-93bd-4636-c95d-92c973f362c9"
      },
      "execution_count": null,
      "outputs": [
        {
          "output_type": "stream",
          "name": "stdout",
          "text": [
            "gee\n",
            "ap\n"
          ]
        }
      ]
    }
  ]
}